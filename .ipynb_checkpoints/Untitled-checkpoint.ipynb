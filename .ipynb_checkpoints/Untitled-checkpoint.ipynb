{
 "cells": [
  {
   "cell_type": "code",
   "execution_count": 2,
   "metadata": {},
   "outputs": [],
   "source": [
    "import os\n",
    "from sklearn.feature_extraction.text import CountVectorizer"
   ]
  },
  {
   "cell_type": "code",
   "execution_count": 3,
   "metadata": {},
   "outputs": [],
   "source": [
    "train = []\n",
    "test = []\n",
    "y_train = []\n",
    "y_test = []"
   ]
  },
  {
   "cell_type": "code",
   "execution_count": 4,
   "metadata": {},
   "outputs": [],
   "source": [
    "listtrain = os.listdir('data/classify_data/train/')\n",
    "for i in listtrain:\n",
    "    f = open(\"data/classify_data/train/\"+i, encoding=\"utf8\")\n",
    "    line = f.readline()\n",
    "    while(line):\n",
    "        train.append(line)\n",
    "        y_train.append(int(i.split('.')[0]))\n",
    "        line = f.readline()\n",
    "    f.close()"
   ]
  },
  {
   "cell_type": "code",
   "execution_count": 5,
   "metadata": {},
   "outputs": [],
   "source": [
    "f = open(\"data/classify_data/test/data.txt\", encoding=\"utf8\")\n",
    "line = f.readline()\n",
    "while(line):\n",
    "    test.append(line)\n",
    "    line = f.readline()\n",
    "f.close()\n",
    "del f"
   ]
  },
  {
   "cell_type": "code",
   "execution_count": 6,
   "metadata": {},
   "outputs": [],
   "source": [
    "f = open(\"data/classify_data/test/label.txt\", encoding=\"utf8\")\n",
    "line = f.readline()\n",
    "while(line):\n",
    "    y_test.append(int(line))\n",
    "    line = f.readline()\n",
    "f.close()\n",
    "del f"
   ]
  },
  {
   "cell_type": "code",
   "execution_count": 14,
   "metadata": {},
   "outputs": [],
   "source": [
    "stopwords = []\n",
    "f = open(\"stopwords.txt\", encoding=\"utf8\")\n",
    "line = f.readline()\n",
    "while(line):\n",
    "    stopwords.append(line)\n",
    "    line = f.readline()\n",
    "f.close()\n",
    "del f"
   ]
  },
  {
   "cell_type": "code",
   "execution_count": null,
   "metadata": {},
   "outputs": [],
   "source": []
  },
  {
   "cell_type": "code",
   "execution_count": null,
   "metadata": {},
   "outputs": [],
   "source": []
  },
  {
   "cell_type": "code",
   "execution_count": 11,
   "metadata": {},
   "outputs": [],
   "source": []
  },
  {
   "cell_type": "code",
   "execution_count": 12,
   "metadata": {},
   "outputs": [
    {
     "data": {
      "text/plain": [
       "SVC(C=1.0, cache_size=200, class_weight=None, coef0=0.0,\n",
       "    decision_function_shape='ovr', degree=3, gamma='auto', kernel='rbf',\n",
       "    max_iter=-1, probability=False, random_state=None, shrinking=True,\n",
       "    tol=0.001, verbose=False)"
      ]
     },
     "execution_count": 12,
     "metadata": {},
     "output_type": "execute_result"
    }
   ],
   "source": []
  },
  {
   "cell_type": "code",
   "execution_count": 18,
   "metadata": {},
   "outputs": [
    {
     "name": "stdout",
     "output_type": "stream",
     "text": [
      "0.7767692307692308\n"
     ]
    }
   ],
   "source": [
    "X_test = vectorizer.transform(test).toarray()\n",
    "print(clf.score(X_test, y_test))"
   ]
  },
  {
   "cell_type": "code",
   "execution_count": 16,
   "metadata": {},
   "outputs": [
    {
     "data": {
      "text/plain": [
       "<6500x200 sparse matrix of type '<class 'numpy.int64'>'\n",
       "\twith 435588 stored elements in Compressed Sparse Row format>"
      ]
     },
     "execution_count": 16,
     "metadata": {},
     "output_type": "execute_result"
    }
   ],
   "source": [
    "X_test"
   ]
  },
  {
   "cell_type": "code",
   "execution_count": 15,
   "metadata": {},
   "outputs": [],
   "source": [
    "max_features = [200, 250, 300, 350, 400, 450, 500]\n",
    "kernels = ['linear', 'rbf']\n",
    "C_list = [1.0, 10.0, 100.0]"
   ]
  },
  {
   "cell_type": "code",
   "execution_count": null,
   "metadata": {},
   "outputs": [],
   "source": [
    "for n_features in max_features:\n",
    "    for ker in kernels:\n",
    "        for c in C_list:\n",
    "            vectorizer = CountVectorizer(max_features=n_features, stop_words=stopwords)\n",
    "            X = vectorizer.fit_transform(train)\n",
    "            X_test = vectorizer.transform(test).toarray()\n",
    "            X_train = X.toarray()\n",
    "            clf = SVC(C=c, kernel=ker, gamma='auto')\n",
    "            clf.fit(X_train, y_train)\n",
    "            print(\"max_features: {}, C: {}, kernel: {}\".format(n_features, c, ker))"
   ]
  }
 ],
 "metadata": {
  "kernelspec": {
   "display_name": "Python 3",
   "language": "python",
   "name": "python3"
  },
  "language_info": {
   "codemirror_mode": {
    "name": "ipython",
    "version": 3
   },
   "file_extension": ".py",
   "mimetype": "text/x-python",
   "name": "python",
   "nbconvert_exporter": "python",
   "pygments_lexer": "ipython3",
   "version": "3.6.8"
  }
 },
 "nbformat": 4,
 "nbformat_minor": 4
}
